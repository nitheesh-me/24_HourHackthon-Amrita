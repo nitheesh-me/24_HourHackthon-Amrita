{
  "nbformat": 4,
  "nbformat_minor": 0,
  "metadata": {
    "colab": {
      "name": "project_ver0.ipynb",
      "version": "0.3.2",
      "provenance": [],
      "collapsed_sections": [],
      "include_colab_link": true
    },
    "kernelspec": {
      "name": "python3",
      "display_name": "Python 3"
    }
  },
  "cells": [
    {
      "cell_type": "markdown",
      "metadata": {
        "id": "view-in-github",
        "colab_type": "text"
      },
      "source": [
        "<a href=\"https://colab.research.google.com/github/nitheesh-me/24_HourHackthon-Amrita/blob/master/project_ver1.ipynb\" target=\"_parent\"><img src=\"https://colab.research.google.com/assets/colab-badge.svg\" alt=\"Open In Colab\"/></a>"
      ]
    },
    {
      "metadata": {
        "id": "tQXXkmqYY1Zu",
        "colab_type": "text"
      },
      "cell_type": "markdown",
      "source": [
        "Importing packages"
      ]
    },
    {
      "metadata": {
        "id": "bc-zIW8T7mTq",
        "colab_type": "code",
        "colab": {}
      },
      "cell_type": "code",
      "source": [
        "import csv\n",
        "import pandas as pd\n",
        "import numpy as np"
      ],
      "execution_count": 0,
      "outputs": []
    },
    {
      "metadata": {
        "id": "UKiRr4wyJHfG",
        "colab_type": "code",
        "outputId": "e29b01cf-21a3-4ddd-b677-c6c4bf4bcb27",
        "colab": {
          "resources": {
            "http://localhost:8080/nbextensions/google.colab/files.js": {
              "data": "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",
              "ok": true,
              "headers": [
                [
                  "content-type",
                  "application/javascript"
                ]
              ],
              "status": 200,
              "status_text": ""
            }
          },
          "base_uri": "https://localhost:8080/",
          "height": 72
        }
      },
      "cell_type": "code",
      "source": [
        "from google.colab import files\n",
        "uploaded = files.upload()"
      ],
      "execution_count": 2,
      "outputs": [
        {
          "output_type": "display_data",
          "data": {
            "text/html": [
              "\n",
              "     <input type=\"file\" id=\"files-b7fd4527-3b6a-4b84-b91b-3d1fe1406384\" name=\"files[]\" multiple disabled />\n",
              "     <output id=\"result-b7fd4527-3b6a-4b84-b91b-3d1fe1406384\">\n",
              "      Upload widget is only available when the cell has been executed in the\n",
              "      current browser session. Please rerun this cell to enable.\n",
              "      </output>\n",
              "      <script src=\"/nbextensions/google.colab/files.js\"></script> "
            ],
            "text/plain": [
              "<IPython.core.display.HTML object>"
            ]
          },
          "metadata": {
            "tags": []
          }
        },
        {
          "output_type": "stream",
          "text": [
            "Saving data_samp_ROOMS_all_ver0 - Sheet1.csv to data_samp_ROOMS_all_ver0 - Sheet1.csv\n"
          ],
          "name": "stdout"
        }
      ]
    },
    {
      "metadata": {
        "id": "Plzu2DbEJiKx",
        "colab_type": "code",
        "outputId": "9527e7b2-2d3c-4358-e744-40408d8ebdf6",
        "colab": {
          "base_uri": "https://localhost:8080/",
          "height": 119
        }
      },
      "cell_type": "code",
      "source": [
        "import io\n",
        "df = pd.read_csv(io.BytesIO(uploaded['data_samp_ROOMS_all_ver0 - Sheet1.csv']))\n",
        "print(df[0:5])"
      ],
      "execution_count": 3,
      "outputs": [
        {
          "output_type": "stream",
          "text": [
            "  Start  End  Max.Capacity  Occupancy  Hazard  Fire Trigger\n",
            "0   R11  S12             4          2       0             4\n",
            "1   S12  R13             9          2       3            47\n",
            "2   R13  R14             2          5       0            74\n",
            "3   R14  R15             0          8       4            61\n",
            "4   R15  S16             7          6       3            46\n"
          ],
          "name": "stdout"
        }
      ]
    },
    {
      "metadata": {
        "id": "l_ANNV1LKbG_",
        "colab_type": "code",
        "colab": {}
      },
      "cell_type": "code",
      "source": [
        "nodes = df.loc[np.where(df['Start'] == df['End'])]\n",
        "edges = df.loc[np.where(df['Start'] != df['End'])]\n",
        "exits = nodes.loc[nodes['Start'].str.contains(\"E\")]\n",
        "nodes = nodes.drop(list(exits.index.values))\n",
        "safe_exit_concat = edges[['Start','End']]\n",
        "safe_exit_graph =  safe_exit_concat.dropna()"
      ],
      "execution_count": 0,
      "outputs": []
    },
    {
      "metadata": {
        "id": "bY2b0nv6DIBe",
        "colab_type": "code",
        "outputId": "3ef8cbc6-118f-4b50-f349-8fe3faf90021",
        "colab": {
          "base_uri": "https://localhost:8080/",
          "height": 68
        }
      },
      "cell_type": "code",
      "source": [
        "print(exits[:5])"
      ],
      "execution_count": 5,
      "outputs": [
        {
          "output_type": "stream",
          "text": [
            "   Start End  Max.Capacity  Occupancy  Hazard  Fire Trigger\n",
            "47    E6  E6     100000000          0       0     100000000\n",
            "48    E0  E0     100000000          0       0     100000000\n"
          ],
          "name": "stdout"
        }
      ]
    },
    {
      "metadata": {
        "id": "UYeqmrBtA3qP",
        "colab_type": "code",
        "outputId": "57c2cf8c-bc86-4d51-f27b-825457697185",
        "colab": {
          "base_uri": "https://localhost:8080/",
          "height": 119
        }
      },
      "cell_type": "code",
      "source": [
        "print(nodes[-5:])"
      ],
      "execution_count": 6,
      "outputs": [
        {
          "output_type": "stream",
          "text": [
            "   Start  End  Max.Capacity  Occupancy  Hazard  Fire Trigger\n",
            "42   S41  S41             1          8       3            27\n",
            "43   S51  S51             8          7       5            86\n",
            "44   R52  R52             3         10       5            12\n",
            "45   R53  R53             0          8       1            97\n",
            "46   S54  S54             7          0       4            95\n"
          ],
          "name": "stdout"
        }
      ]
    },
    {
      "metadata": {
        "id": "cSUWF6zrA34v",
        "colab_type": "code",
        "outputId": "532caa71-9ba1-49bb-8ec1-89fba6c1bc37",
        "colab": {
          "base_uri": "https://localhost:8080/",
          "height": 119
        }
      },
      "cell_type": "code",
      "source": [
        "print(edges[-5:])"
      ],
      "execution_count": 7,
      "outputs": [
        {
          "output_type": "stream",
          "text": [
            "   Start  End  Max.Capacity  Occupancy  Hazard  Fire Trigger\n",
            "22   S51  R52             5          6       2            61\n",
            "23   R52  R53            10          6       2            58\n",
            "24   R53  S54             1          5       2           100\n",
            "25   S51   E6             2          6       5            83\n",
            "26   S54   E6             2          9       5            90\n"
          ],
          "name": "stdout"
        }
      ]
    },
    {
      "metadata": {
        "id": "T8ok6-piA4Cc",
        "colab_type": "code",
        "outputId": "5ebda102-f59a-4093-fa23-6f40f6152604",
        "colab": {
          "base_uri": "https://localhost:8080/",
          "height": 119
        }
      },
      "cell_type": "code",
      "source": [
        "print(safe_exit_graph[-5:])"
      ],
      "execution_count": 8,
      "outputs": [
        {
          "output_type": "stream",
          "text": [
            "   Start  End\n",
            "22   S51  R52\n",
            "23   R52  R53\n",
            "24   R53  S54\n",
            "25   S51   E6\n",
            "26   S54   E6\n"
          ],
          "name": "stdout"
        }
      ]
    },
    {
      "metadata": {
        "id": "GDtHh6umSkNe",
        "colab_type": "code",
        "outputId": "febbcc0a-75b1-4d98-d54e-18fa0d037054",
        "colab": {
          "base_uri": "https://localhost:8080/",
          "height": 391
        }
      },
      "cell_type": "code",
      "source": [
        "floors ={}\n",
        "min_floor = 100000\n",
        "max_floor = -1\n",
        "for index, row in nodes.iterrows():\n",
        "  room = row[\"Start\"]\n",
        "  floor = room[1]\n",
        "  min_floor = min(int(floor),min_floor)\n",
        "  max_floor = max(int(floor),max_floor)\n",
        "  if floor not in floors.keys():\n",
        "    floors[floor] = []\n",
        "  floors[floor].append(tuple(row[[\"Start\",\"Occupancy\",\"Hazard\",\"Fire Trigger\"]]))\n",
        "from pprint import pprint\n",
        "#pprint(floors)\n",
        "for index, row in exits.iterrows():\n",
        "  room = row[\"Start\"]\n",
        "  floor = room[1]\n",
        "  if floor not in floors.keys():\n",
        "    floors[floor] = []\n",
        "  floors[floor].append(tuple(row[[\"Start\",\"Occupancy\",\"Hazard\",\"Fire Trigger\"]]))\n",
        "pprint(floors)"
      ],
      "execution_count": 9,
      "outputs": [
        {
          "output_type": "stream",
          "text": [
            "{'0': [('E0', 0, 0, 100000000)],\n",
            " '1': [('R11', 5, 0, 32),\n",
            "       ('S12', 8, 5, 49),\n",
            "       ('R13', 10, 1, 82),\n",
            "       ('R14', 9, 1, 88),\n",
            "       ('R15', 1, 3, 67),\n",
            "       ('S16', 1, 4, 64)],\n",
            " '2': [('S21', 0, 1, 43),\n",
            "       ('R22', 7, 5, 54),\n",
            "       ('R23', 1, 0, 13),\n",
            "       ('S24', 9, 0, 2),\n",
            "       ('R25', 4, 1, 17)],\n",
            " '3': [('S31', 2, 2, 83),\n",
            "       ('R32', 4, 0, 42),\n",
            "       ('R33', 7, 5, 55),\n",
            "       ('S34', 3, 2, 18)],\n",
            " '4': [('S41', 8, 3, 27)],\n",
            " '5': [('S51', 7, 5, 86),\n",
            "       ('R52', 10, 5, 12),\n",
            "       ('R53', 8, 1, 97),\n",
            "       ('S54', 0, 4, 95)],\n",
            " '6': [('E6', 0, 0, 100000000)]}\n"
          ],
          "name": "stdout"
        }
      ]
    },
    {
      "metadata": {
        "id": "tOZgVhigNjn6",
        "colab_type": "code",
        "colab": {}
      },
      "cell_type": "code",
      "source": [
        "safe_exit_graph_dict = {k: g[\"End\"].tolist() for k,g in edges.groupby(\"Start\")}"
      ],
      "execution_count": 0,
      "outputs": []
    },
    {
      "metadata": {
        "id": "pNiUVPLibdt4",
        "colab_type": "code",
        "outputId": "8e73d321-68cf-4699-9ef6-91e0d8d1df9d",
        "colab": {
          "base_uri": "https://localhost:8080/",
          "height": 340
        }
      },
      "cell_type": "code",
      "source": [
        "pprint(safe_exit_graph_dict)"
      ],
      "execution_count": 29,
      "outputs": [
        {
          "output_type": "stream",
          "text": [
            "{'R11': ['S12'],\n",
            " 'R13': ['R14'],\n",
            " 'R14': ['R15'],\n",
            " 'R15': ['S16'],\n",
            " 'R22': ['R23'],\n",
            " 'R23': ['S24'],\n",
            " 'R32': ['R33'],\n",
            " 'R33': ['S34'],\n",
            " 'R52': ['R53'],\n",
            " 'R53': ['S54'],\n",
            " 'S12': ['R13', 'S21', 'E0'],\n",
            " 'S16': ['S24', 'E0'],\n",
            " 'S21': ['R22', 'S31'],\n",
            " 'S24': ['R25', 'R32'],\n",
            " 'S31': ['R32', 'S41'],\n",
            " 'S34': ['S41'],\n",
            " 'S41': ['S51', 'S54'],\n",
            " 'S51': ['R52', 'E6'],\n",
            " 'S54': ['E6']}\n"
          ],
          "name": "stdout"
        }
      ]
    },
    {
      "metadata": {
        "id": "TVsjif2z1z-5",
        "colab_type": "code",
        "colab": {}
      },
      "cell_type": "code",
      "source": [
        "def _process_params(center, dim):\n",
        "    # Some boilerplate code.\n",
        "    import numpy as np\n",
        "    if center is None:\n",
        "        center = np.zeros(dim)\n",
        "    else:\n",
        "        center = np.asarray(center)\n",
        "\n",
        "    if len(center) != dim:\n",
        "        msg = \"length of center coordinates must match dimension of layout\"\n",
        "        raise ValueError(msg)\n",
        "\n",
        "    return center\n",
        "def rescale_layout(pos, scale=1):\n",
        "    lim = 0  # max coordinate for all axes\n",
        "    for i in range(pos.shape[1]):\n",
        "        pos[:, i] -= pos[:, i].mean()\n",
        "        lim = max(abs(pos[:, i]).max(), lim)\n",
        "    # rescale to (-scale, scale) in all directions, preserves aspect\n",
        "    if lim > 0:\n",
        "        for i in range(pos.shape[1]):\n",
        "            pos[:, i] *= scale / lim\n",
        "    return pos\n",
        "def random_constrained_layout(scale=1, center=None, dim=2,floors=None,ab=[1,1], xy=[0,0]):\n",
        "    \n",
        "    import numpy as np\n",
        "    rotate = np.pi / 3\n",
        "    if dim < 2:\n",
        "        raise ValueError('cannot handle dimensions < 2')\n",
        "    exact_center = len(floors)//2\n",
        "    out={}\n",
        "    for i,(floor_lable,floor) in enumerate(sorted(floors.items())):\n",
        "\n",
        "      center = _process_params(center, dim)\n",
        "\n",
        "      paddims = max(0, (dim - 2))\n",
        "\n",
        "      if len(floor) == 0:\n",
        "          pos = {}\n",
        "      elif len(floor) == 1:\n",
        "        print(center)\n",
        "        pos = {floor[0][0]: center+(np.array(xy)*i)}\n",
        "      else:\n",
        "          # Discard the extra angle since it matches 0 radians.\n",
        "          theta = np.linspace(0, 1, len(floor) + 1)[:-1] * 2 * np.pi\n",
        "          theta = theta.astype(np.float32)\n",
        "          pos = np.column_stack([ab[0]*np.cos(theta+rotate)+(i*xy[0]), ab[1]*np.sin(theta+rotate)+(i*xy[1]),\n",
        "                                 np.zeros((len(floor), paddims))])\n",
        "          #pos = rescale_layout(pos, scale=scale) + center\n",
        "          pos = {k[0]:p for index,(k,p) in enumerate(zip(floor,pos))}\n",
        "          #print(pos)\n",
        "      out.update(pos)\n",
        "    return out"
      ],
      "execution_count": 0,
      "outputs": []
    },
    {
      "metadata": {
        "id": "892t9V7ob_DE",
        "colab_type": "code",
        "outputId": "63f7d345-333f-46ff-f692-c3e644674aad",
        "colab": {
          "base_uri": "https://localhost:8080/",
          "height": 1033
        }
      },
      "cell_type": "code",
      "source": [
        "import networkx as nx\n",
        "import matplotlib.pyplot as plt\n",
        "%matplotlib inline\n",
        "plt.rcParams['figure.figsize'] = [6, 15]\n",
        "\n",
        "\n",
        "#custom images\n",
        "#from PIL import Image\n",
        "#import requests\n",
        "#from io import BytesIO\n",
        "#url = \"https://img.icons8.com/color/48/000000/filled-like.png\"\n",
        "#response = requests.get(url)\n",
        "#img = Image.open(BytesIO(response.content))\n",
        "\n",
        "#preprocessing\n",
        "\n",
        "graph = nx.DiGraph(safe_exit_graph_dict)\n",
        "\n",
        "pos=random_constrained_layout(graph, floors=floors, ab=[1,0.3], xy=[0.0,1.7])\n",
        "#nx.draw(graph,pos=pos ,with_labels=True)\n",
        "for i,(l,room) in enumerate(sorted(floors.items())):\n",
        "  print(l,room)\n",
        "  nc = nx.draw_networkx_nodes(graph, pos,\n",
        "                         nodelist=[r[0] for r in room if r[0][0] == 'R'],\n",
        "                         node_size=(np.array([r[1] for r in room if r[0][0] == 'R'])+10)**2,\n",
        "                         node_color=(np.array([r[2] for r in room if r[0][0] == 'R'])),\n",
        "                         cmap=plt.cm.Reds,\n",
        "                         node_shape='o')\n",
        "  plt.axis('off')\n",
        "  nx.draw_networkx_nodes(graph, pos,\n",
        "                         nodelist=[r[0] for r in room if r[0][0] == 'S'],\n",
        "                         node_size=(np.array([r[1] for r in room if r[0][0] == 'S'])+10)**2,\n",
        "                         node_color=(np.array([r[2] for r in room if r[0][0] == 'S'])),\n",
        "                         cmap=plt.cm.Reds,\n",
        "                         node_shape='^')\n",
        "  nx.draw_networkx_nodes(graph, pos,\n",
        "                         nodelist=[r[0] for r in room if r[0][0] == 'E'],\n",
        "                         node_size=500,\n",
        "                         node_color='b',\n",
        "                         node_shape='p')\n",
        "nx.draw_networkx_edges(graph, pos,\n",
        "                       edgelist=None,\n",
        "                       width=1.0,\n",
        "                       edge_color='k',\n",
        "                       cmap=plt.cm.Blues,\n",
        "                       style='solid')\n",
        "nx.draw_networkx_labels(graph, pos,\n",
        "                        labels=None,\n",
        "                        font_size=12,\n",
        "                        font_color='k')\n",
        "#nx.draw_networkx_edge_labels(graph, pos, edge_labels=None, label_pos=0.5, font_size=10, font_color='k')\n",
        "plt.draw()\n",
        "plt.show()"
      ],
      "execution_count": 33,
      "outputs": [
        {
          "output_type": "stream",
          "text": [
            "[0. 0.]\n",
            "[0. 0.]\n",
            "[0. 0.]\n",
            "0 [('E0', 0, 0, 100000000)]\n",
            "1 [('R11', 5, 0, 32), ('S12', 8, 5, 49), ('R13', 10, 1, 82), ('R14', 9, 1, 88), ('R15', 1, 3, 67), ('S16', 1, 4, 64)]\n",
            "2 [('S21', 0, 1, 43), ('R22', 7, 5, 54), ('R23', 1, 0, 13), ('S24', 9, 0, 2), ('R25', 4, 1, 17)]\n",
            "3 [('S31', 2, 2, 83), ('R32', 4, 0, 42), ('R33', 7, 5, 55), ('S34', 3, 2, 18)]\n",
            "4 [('S41', 8, 3, 27)]\n",
            "5 [('S51', 7, 5, 86), ('R52', 10, 5, 12), ('R53', 8, 1, 97), ('S54', 0, 4, 95)]\n",
            "6 [('E6', 0, 0, 100000000)]\n"
          ],
          "name": "stdout"
        },
        {
          "output_type": "display_data",
          "data": {
            "image/png": "[encoded data removed]",
            "text/plain": [
              "<Figure size 432x1080 with 1 Axes>"
            ]
          },
          "metadata": {
            "tags": []
          }
        }
      ]
    },
    {
      "metadata": {
        "id": "nen8NB7QQRSC",
        "colab_type": "code",
        "colab": {
          "base_uri": "https://localhost:8080/",
          "height": 476
        },
        "outputId": "e5973562-8a94-4219-9898-38949ac486c5"
      },
      "cell_type": "code",
      "source": [
        "[(u, v) for (u, v, d) in graph.edges(data=True)]"
      ],
      "execution_count": 14,
      "outputs": [
        {
          "output_type": "execute_result",
          "data": {
            "text/plain": [
              "[('R11', 'S12'),\n",
              " ('R13', 'R14'),\n",
              " ('R14', 'R15'),\n",
              " ('R15', 'S16'),\n",
              " ('R22', 'R23'),\n",
              " ('R23', 'S24'),\n",
              " ('R32', 'R33'),\n",
              " ('R33', 'S34'),\n",
              " ('R52', 'R53'),\n",
              " ('R53', 'S54'),\n",
              " ('S12', 'R13'),\n",
              " ('S12', 'S21'),\n",
              " ('S12', 'E0'),\n",
              " ('S16', 'S24'),\n",
              " ('S16', 'E0'),\n",
              " ('S21', 'R22'),\n",
              " ('S21', 'S31'),\n",
              " ('S24', 'R25'),\n",
              " ('S24', 'R32'),\n",
              " ('S31', 'R32'),\n",
              " ('S31', 'S41'),\n",
              " ('S34', 'S41'),\n",
              " ('S41', 'S51'),\n",
              " ('S41', 'S54'),\n",
              " ('S51', 'R52'),\n",
              " ('S51', 'E6'),\n",
              " ('S54', 'E6')]"
            ]
          },
          "metadata": {
            "tags": []
          },
          "execution_count": 14
        }
      ]
    }
  ]
}